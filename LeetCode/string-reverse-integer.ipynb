{
 "cells": [
  {
   "cell_type": "code",
   "execution_count": null,
   "id": "99766ec4",
   "metadata": {},
   "outputs": [],
   "source": [
    "from typing import List"
   ]
  },
  {
   "cell_type": "markdown",
   "id": "18f49445",
   "metadata": {},
   "source": [
    "Given a signed 32-bit integer x, return x with its digits reversed. If reversing x causes the value to go outside the signed 32-bit integer range [-231, 231 - 1], then return 0.\n",
    "\n",
    "Assume the environment does not allow you to store 64-bit integers (signed or unsigned).\n",
    "\n",
    "example:\n",
    "Input: x = 123\n",
    "Output: 321"
   ]
  },
  {
   "cell_type": "code",
   "execution_count": 2,
   "id": "448a03df",
   "metadata": {},
   "outputs": [],
   "source": [
    "class Solution:\n",
    "    def reverse(self, x: int) -> int:\n",
    "        \n",
    "        min = -2**31\n",
    "        max = 2**31-1\n",
    "                                           \n",
    "        if x<0:\n",
    "            signx = -1\n",
    "        else:\n",
    "            signx = 1\n",
    "                                   \n",
    "        absx = abs(x)\n",
    "        strx = str(absx)\n",
    "        strx = strx[::-1]\n",
    "        absx = int(strx)\n",
    "            \n",
    "        ans = signx*absx  \n",
    "        \n",
    "        if min <= ans <= max:\n",
    "            return ans\n",
    "        else:\n",
    "            return 0"
   ]
  }
 ],
 "metadata": {
  "kernelspec": {
   "display_name": "Python 3",
   "language": "python",
   "name": "python3"
  },
  "language_info": {
   "codemirror_mode": {
    "name": "ipython",
    "version": 3
   },
   "file_extension": ".py",
   "mimetype": "text/x-python",
   "name": "python",
   "nbconvert_exporter": "python",
   "pygments_lexer": "ipython3",
   "version": "3.12.4"
  }
 },
 "nbformat": 4,
 "nbformat_minor": 5
}
