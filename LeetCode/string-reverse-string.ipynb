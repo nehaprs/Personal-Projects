{
 "cells": [
  {
   "cell_type": "markdown",
   "id": "f1ec5fca",
   "metadata": {},
   "source": [
    "Write a function that reverses a string. The input string is given as an array of characters s.\n",
    "\n",
    "You must do this by modifying the input array in-place with O(1) extra memory.\n",
    "\n",
    " \n",
    "\n",
    "Example 1:\n",
    "\n",
    "Input: s = [\"h\",\"e\",\"l\",\"l\",\"o\"]\n",
    "Output: [\"o\",\"l\",\"l\",\"e\",\"h\"]"
   ]
  },
  {
   "cell_type": "code",
   "execution_count": 3,
   "id": "bb88e131",
   "metadata": {},
   "outputs": [],
   "source": [
    "from typing import List"
   ]
  },
  {
   "cell_type": "code",
   "execution_count": 4,
   "id": "6c291160",
   "metadata": {},
   "outputs": [],
   "source": [
    "\n",
    "def reverseString(self, s: List[str]) -> None:\n",
    "        \n",
    "    n = len(s)\n",
    "        \n",
    "    k = 0\n",
    "    while k< n-k-1:\n",
    "        temp = s[k]\n",
    "        s[k] = s[n-k-1]\n",
    "        s[n-k-1]=temp\n",
    "        k = k+1    \n",
    "        \n",
    "        \"\"\"\n",
    "        Do not return anything, modify s in-place instead.\n",
    "        \"\"\""
   ]
  }
 ],
 "metadata": {
  "kernelspec": {
   "display_name": "Python 3",
   "language": "python",
   "name": "python3"
  },
  "language_info": {
   "codemirror_mode": {
    "name": "ipython",
    "version": 3
   },
   "file_extension": ".py",
   "mimetype": "text/x-python",
   "name": "python",
   "nbconvert_exporter": "python",
   "pygments_lexer": "ipython3",
   "version": "3.12.4"
  }
 },
 "nbformat": 4,
 "nbformat_minor": 5
}
